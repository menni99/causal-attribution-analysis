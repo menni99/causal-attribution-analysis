{
 "cells": [
  {
   "cell_type": "code",
   "execution_count": 3,
   "metadata": {},
   "outputs": [],
   "source": [
    "# try everything here\n",
    "import sys\n",
    "sys.path.append('../')\n",
    "\n",
    "import pandas as pd\n",
    "\n",
    "from src.data.make_dataset import load_data\n",
    "\n"
   ]
  },
  {
   "cell_type": "code",
   "execution_count": 4,
   "metadata": {},
   "outputs": [],
   "source": [
    "# Loading Data\n",
    "data_dict = load_data()\n",
    "\n",
    "olist_customers_df = data_dict['olist_customers_df']\n",
    "olist_geolocation_df = data_dict['olist_geolocation_df']\n",
    "olist_order_items_df = data_dict['olist_order_items_df']\n",
    "olist_order_payments_df = data_dict['olist_order_payments_df']\n",
    "olist_order_reviews_df = data_dict['olist_order_reviews_df']\n",
    "olist_orders_df = data_dict['olist_orders_df']\n",
    "olist_products_df = data_dict['olist_products_df']\n",
    "olist_sellers_df = data_dict['olist_sellers_df']\n",
    "product_category_name_translation_df = data_dict['product_category_name_translation_df']\n",
    "\n",
    "olist_closed_deals_df = data_dict['olist_closed_deals_df']\n",
    "olist_marketing_qualified_leads_df = data_dict['olist_marketing_qualified_leads_df']"
   ]
  },
  {
   "cell_type": "code",
   "execution_count": null,
   "metadata": {},
   "outputs": [],
   "source": [
    "print('Juan is gay')"
   ]
  }
 ],
 "metadata": {
  "kernelspec": {
   "display_name": "venv",
   "language": "python",
   "name": "python3"
  },
  "language_info": {
   "codemirror_mode": {
    "name": "ipython",
    "version": 3
   },
   "file_extension": ".py",
   "mimetype": "text/x-python",
   "name": "python",
   "nbconvert_exporter": "python",
   "pygments_lexer": "ipython3",
   "version": "3.12.6"
  }
 },
 "nbformat": 4,
 "nbformat_minor": 2
}
